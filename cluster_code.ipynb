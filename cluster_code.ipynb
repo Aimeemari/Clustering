{
  "cells": [
    {
      "cell_type": "code",
      "execution_count": null,
      "metadata": {
        "id": "uEjkngJMGLfv"
      },
      "outputs": [],
      "source": [
        "import matplotlib.pyplot as plt\n",
        "import numpy as np\n",
        "import pandas as pd\n",
        "import seaborn as sns; sns.set()\n",
        "from sklearn.cluster import k_means, kmeans_plusplus, KMeans\n",
        "from sklearn.decomposition import PCA\n",
        "import math\n",
        "import matplotlib.pyplot as plt\n",
        "import matplotlib as mpl\n",
        "from sklearn.mixture import GaussianMixture\n",
        "from sklearn.model_selection import GridSearchCV, train_test_split, cross_val_score\n",
        "from sklearn.linear_model import LogisticRegression\n",
        "from sklearn.pipeline import Pipeline\n",
        "from sklearn.metrics import accuracy_score\n",
        "\n",
        "from sklearn.cluster import AgglomerativeClustering\n",
        "import scipy.cluster.hierarchy as sch\n",
        "from joblib import dump, load"
      ]
    },
    {
      "cell_type": "markdown",
      "metadata": {
        "id": "qbiAp0ZIGLf2"
      },
      "source": [
        "## Load Data\n"
      ]
    },
    {
      "cell_type": "code",
      "execution_count": null,
      "metadata": {
        "id": "o_H1scA9GLf3",
        "outputId": "d94a0178-2222-495c-93ae-e46392a72b5f"
      },
      "outputs": [
        {
          "name": "stdout",
          "output_type": "stream",
          "text": [
            "(20000, 784)\n"
          ]
        }
      ],
      "source": [
        "#Load Data\n",
        "from sklearn.datasets import fetch_openml\n",
        "mnist = fetch_openml('mnist_784', version=1)\n",
        "#mnist = mnist[0:5000]\n",
        "Xmnist = mnist[\"data\"][0:20000]\n",
        "print(Xmnist.shape)\n"
      ]
    },
    {
      "cell_type": "markdown",
      "metadata": {
        "id": "5Xt4NW2CGLf4"
      },
      "source": [
        "#helper functions for digit display"
      ]
    },
    {
      "cell_type": "code",
      "execution_count": null,
      "metadata": {
        "id": "QzNBUTY_GLf5"
      },
      "outputs": [],
      "source": [
        "#Look at an image\n",
        "def showDigit(digit, label, size=28):\n",
        "    some_digit = digit\n",
        "    #turn array into the correct shape\n",
        "    some_digit_image = np.array(some_digit).reshape(size, size)\n",
        "    #imshow displays an array like an image\n",
        "    plt.imshow(some_digit_image, cmap=mpl.cm.binary)\n",
        "    plt.title(label)\n",
        "    plt.axis(\"off\")\n",
        "    plt.show()\n",
        "\n",
        "#Display multiple digits\n",
        "def showDigits(digits, labels, indexes, size=28):\n",
        "    #Make a grid that is the right size\n",
        "    pics = len(indexes)\n",
        "    cols = 6\n",
        "    rows = math.ceil(pics/cols)\n",
        "    fig, axes = plt.subplots(rows, cols, figsize=(14,6))\n",
        "    plt.axis(\"off\")\n",
        "\n",
        "    #loop through the list of indexes, grab images and labels, plot in the \"next\" spot. \n",
        "    for i in range(0, pics):\n",
        "        n = indexes[i]\n",
        "        some_digit = digits[n:n+1]\n",
        "        some_digit_image = np.array(some_digit).reshape(size, size)\n",
        "        ax = axes[i//cols, i%cols]\n",
        "        ax.axis(\"off\")\n",
        "        ax.imshow(some_digit_image, cmap=mpl.cm.binary)\n",
        "        ax.set_title('Ind: {} - Lbl: {}'.format(indexes[i], labels[n]))\n",
        "    plt.tight_layout()\n",
        "    plt.axis(\"off\")\n",
        "    plt.show()\n"
      ]
    },
    {
      "cell_type": "markdown",
      "metadata": {
        "id": "TVbOOiC-GLf6"
      },
      "source": [
        "## Cluster "
      ]
    },
    {
      "cell_type": "markdown",
      "metadata": {
        "id": "ze-25YblGLf7"
      },
      "source": [
        "### Scaling the data using PCA"
      ]
    },
    {
      "cell_type": "code",
      "execution_count": null,
      "metadata": {
        "id": "xOIBnRjXGLf7"
      },
      "outputs": [],
      "source": [
        "pca = PCA(0.99, whiten=True)"
      ]
    },
    {
      "cell_type": "code",
      "execution_count": null,
      "metadata": {
        "id": "X5FbeceDGLf8",
        "outputId": "396a7a01-8b2c-4e45-c3cb-488fa0027564"
      },
      "outputs": [
        {
          "data": {
            "text/plain": [
              "(20000, 329)"
            ]
          },
          "execution_count": 63,
          "metadata": {},
          "output_type": "execute_result"
        }
      ],
      "source": [
        "\n",
        "Xmnist_fit = pca.fit_transform(Xmnist)\n",
        "Xmnist_fit.shape"
      ]
    },
    {
      "cell_type": "markdown",
      "metadata": {
        "id": "7UAJugP6GLf8"
      },
      "source": [
        "### Using AIC to select optimum number of clusters for the model"
      ]
    },
    {
      "cell_type": "code",
      "execution_count": null,
      "metadata": {
        "id": "Pli4dL3aGLf8",
        "outputId": "7909d244-ecc8-4a38-901d-7421e6f2e3b0"
      },
      "outputs": [
        {
          "data": {
            "text/plain": [
              "[<matplotlib.lines.Line2D at 0x2159818bcd0>]"
            ]
          },
          "execution_count": 8,
          "metadata": {},
          "output_type": "execute_result"
        },
        {
          "data": {
            "image/png": "[encoded data removed]",
            "text/plain": [
              "<Figure size 432x288 with 1 Axes>"
            ]
          },
          "metadata": {},
          "output_type": "display_data"
        }
      ],
      "source": [
        "n_components = np.arange(100, 380, 10)\n",
        "models = [GaussianMixture(n, covariance_type='full', random_state=0)\n",
        "          for n in n_components]\n",
        "aics = [model.fit(Xmnist_fit).aic(Xmnist_fit) for model in models]\n",
        "plt.plot(n_components, aics)"
      ]
    },
    {
      "cell_type": "markdown",
      "metadata": {
        "id": "CcFub0O6GLf9"
      },
      "source": [
        "#####  -From plot 220 seems to be the number of clusters that mostly minimizes the AIC"
      ]
    },
    {
      "cell_type": "markdown",
      "metadata": {
        "id": "1_u9nyMrGLf9"
      },
      "source": [
        "### Making the GMM model with 220 clusters, fitting the model to the data and confirming convergence\n"
      ]
    },
    {
      "cell_type": "code",
      "execution_count": null,
      "metadata": {
        "id": "r8iyLFfXGLf9",
        "outputId": "990eb806-f63e-41a7-8b0d-18c7084d09a6"
      },
      "outputs": [
        {
          "name": "stdout",
          "output_type": "stream",
          "text": [
            "True\n"
          ]
        }
      ],
      "source": [
        "gmm = GaussianMixture(n_components = 220, covariance_type='full', random_state=0)\n",
        "gmm_model=gmm.fit(Xmnist_fit)\n",
        "print(gmm_model.converged_)"
      ]
    },
    {
      "cell_type": "markdown",
      "metadata": {
        "id": "jHZAYcYUGLf-"
      },
      "source": [
        "### Saving the GMM model with joblib and reloading it for use in the writeNumber function"
      ]
    },
    {
      "cell_type": "code",
      "execution_count": null,
      "metadata": {
        "id": "RbQh4NInGLf-",
        "outputId": "a3063eaa-86cd-41fa-8f97-f2881f0bc382"
      },
      "outputs": [
        {
          "data": {
            "text/plain": [
              "['gmmModel.joblib']"
            ]
          },
          "execution_count": 10,
          "metadata": {},
          "output_type": "execute_result"
        }
      ],
      "source": [
        "dump(gmm_model, \"gmmModel.joblib\")"
      ]
    },
    {
      "cell_type": "code",
      "execution_count": null,
      "metadata": {
        "id": "lV1ee_eNGLf_"
      },
      "outputs": [],
      "source": [
        "premade_gmm = load(\"gmmModel.joblib\")"
      ]
    },
    {
      "cell_type": "markdown",
      "metadata": {
        "id": "X1Igcm2vGLf_"
      },
      "source": [
        "#### Writing a funtion that receives input of numbers and prints it out as a hand written number"
      ]
    },
    {
      "cell_type": "code",
      "execution_count": null,
      "metadata": {
        "id": "TxBsuZbgGLf_"
      },
      "outputs": [],
      "source": [
        "def writeNumber(new_numberList):\n",
        "    new_numberList = list(str(new_numberList))\n",
        "    new_numberList = [int(i) for i in new_numberList]\n",
        "    #for i in new_numberList:\n",
        "    new_numberList =  np.array(new_numberList)\n",
        "    new_numberList = np.resize(new_numberList, (1, 329))\n",
        "    print(new_numberList)\n",
        "    data_new = premade_gmm.predict(new_numberList)\n",
        "    data_new = data_new[0]\n",
        "    data_new[0].shape\n",
        "    output1 = pca.inverse_transform(data_new)\n",
        "    hw_numbers = showDigits(digits=output1, indexes=len(output1))\n",
        "    return hw_numbers\n",
        "         "
      ]
    },
    {
      "cell_type": "markdown",
      "metadata": {
        "id": "c-YmuIbiGLgA"
      },
      "source": [
        "### Calling our function to see out put"
      ]
    },
    {
      "cell_type": "markdown",
      "metadata": {
        "id": "r1pbYsOKGLgB"
      },
      "source": [
        "\n",
        "##### To test my model, I have created below a function which uses the \"gmm.sample()\" function to generate new data for use on my model"
      ]
    },
    {
      "cell_type": "code",
      "execution_count": null,
      "metadata": {
        "id": "a4CNu9i4GLgB"
      },
      "outputs": [],
      "source": [
        "def writeNumber2(new_number):\n",
        "    data_new2 = premade_gmm.sample(new_number)\n",
        "    data_new2 = data_new2[0]\n",
        "    data_new2[0].shape\n",
        "    output2 = pca.inverse_transform(data_new2)\n",
        "    hw_numbers2 = showDigits(digits=output2, labels=[\"one\",\"two\",\"three\",\"four\",\"five\",\"six\",\"seven\",\"eight\",\"nine\",\"ten\", \"eleven\", \"twelve\"], indexes=[0,1,2,3,4,5,6,7,8,9,10,11])\n",
        "    return hw_numbers2"
      ]
    },
    {
      "cell_type": "markdown",
      "metadata": {
        "id": "kEocjQK9GLgB"
      },
      "source": [
        "###### Run the below code, and Input number 12 to call the writeNumber2 function"
      ]
    },
    {
      "cell_type": "code",
      "execution_count": null,
      "metadata": {
        "id": "wriDfontGLgC",
        "outputId": "6443b374-5863-46f2-ff2d-b0ba0bd18c52"
      },
      "outputs": [
        {
          "data": {
            "image/png": "[encoded data removed]",
            "text/plain": [
              "<Figure size 1008x432 with 12 Axes>"
            ]
          },
          "metadata": {},
          "output_type": "display_data"
        }
      ],
      "source": [
        "new_number = int(input(\"Please input number: \",  ))\n",
        "writeNumber2(new_number)"
      ]
    }
  ],
  "metadata": {
    "colab": {
      "name": "cluster_asn.ipynb",
      "provenance": []
    },
    "interpreter": {
      "hash": "4d722d3adfa415172c1f5238b519fb86b488acdae450fd691ab06c09f4ca9173"
    },
    "kernelspec": {
      "display_name": "Python 3.9.7 64-bit ('ml3950': conda)",
      "language": "python",
      "name": "python3"
    },
    "language_info": {
      "codemirror_mode": {
        "name": "ipython",
        "version": 3
      },
      "file_extension": ".py",
      "mimetype": "text/x-python",
      "name": "python",
      "nbconvert_exporter": "python",
      "pygments_lexer": "ipython3",
      "version": "3.8.8"
    },
    "orig_nbformat": 4
  },
  "nbformat": 4,
  "nbformat_minor": 0
}
